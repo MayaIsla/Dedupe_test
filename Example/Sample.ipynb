{
 "cells": [
  {
   "cell_type": "code",
   "execution_count": 2,
   "id": "661179b3-45dd-4f9b-b8f9-359734d0259c",
   "metadata": {
    "tags": []
   },
   "outputs": [],
   "source": [
    "import pandas\n",
    "import pandas as pd\n",
    "import dedupe\n",
    "import pandas_dedupe"
   ]
  },
  {
   "cell_type": "code",
   "execution_count": 3,
   "id": "325794d9-1c62-4f89-af6b-6ea84b8ec4a8",
   "metadata": {
    "tags": []
   },
   "outputs": [],
   "source": [
    "df = pd.read_csv('C:/Users/misl7603/Example/testsheet.csv',low_memory=False)"
   ]
  },
  {
   "cell_type": "code",
   "execution_count": 4,
   "id": "fe13870c-16a6-45f6-998c-b2a73da5af33",
   "metadata": {
    "tags": []
   },
   "outputs": [
    {
     "name": "stderr",
     "output_type": "stream",
     "text": [
      "C:\\Users\\misl7603\\AppData\\Local\\Temp\\ipykernel_20424\\94381228.py:1: FutureWarning: The default value of regex will change from True to False in a future version.\n",
      "  df = pandas_dedupe.dedupe_dataframe(df,['Address', 'Org'])\n",
      "Address : 123 street rd.\n",
      "Org : george\n",
      "\n",
      "Address : 123 street road\n",
      "Org : george\n",
      "\n",
      "0/10 positive, 0/10 negative\n",
      "Do these records refer to the same thing?\n",
      "(y)es / (n)o / (u)nsure / (f)inished\n"
     ]
    },
    {
     "name": "stdout",
     "output_type": "stream",
     "text": [
      "Importing data ...\n",
      "Starting active labeling...\n"
     ]
    },
    {
     "name": "stdin",
     "output_type": "stream",
     "text": [
      " y\n"
     ]
    },
    {
     "name": "stderr",
     "output_type": "stream",
     "text": [
      "Address : 123 street rd.\n",
      "Org : george\n",
      "\n",
      "Address : 123 street road\n",
      "Org : george\n",
      "\n",
      "1/10 positive, 0/10 negative\n",
      "Do these records refer to the same thing?\n",
      "(y)es / (n)o / (u)nsure / (f)inished / (p)revious\n"
     ]
    },
    {
     "name": "stdin",
     "output_type": "stream",
     "text": [
      " y\n"
     ]
    },
    {
     "name": "stderr",
     "output_type": "stream",
     "text": [
      "Address : 9278 road st.\n",
      "Org : test\n",
      "\n",
      "Address : 9278 road st.\n",
      "Org : test\n",
      "\n",
      "2/10 positive, 0/10 negative\n",
      "Do these records refer to the same thing?\n",
      "(y)es / (n)o / (u)nsure / (f)inished / (p)revious\n"
     ]
    },
    {
     "name": "stdin",
     "output_type": "stream",
     "text": [
      " y\n"
     ]
    },
    {
     "name": "stderr",
     "output_type": "stream",
     "text": [
      "Address : 0987 location street\n",
      "Org : exist\n",
      "\n",
      "Address : 0987 location street\n",
      "Org : exist\n",
      "\n",
      "3/10 positive, 0/10 negative\n",
      "Do these records refer to the same thing?\n",
      "(y)es / (n)o / (u)nsure / (f)inished / (p)revious\n"
     ]
    },
    {
     "name": "stdin",
     "output_type": "stream",
     "text": [
      " y\n"
     ]
    },
    {
     "name": "stderr",
     "output_type": "stream",
     "text": [
      "Address : 1029 address rd.\n",
      "Org : hello\n",
      "\n",
      "Address : 1099 place rd.\n",
      "Org : newton\n",
      "\n",
      "4/10 positive, 0/10 negative\n",
      "Do these records refer to the same thing?\n",
      "(y)es / (n)o / (u)nsure / (f)inished / (p)revious\n"
     ]
    },
    {
     "name": "stdin",
     "output_type": "stream",
     "text": [
      " n\n"
     ]
    },
    {
     "name": "stderr",
     "output_type": "stream",
     "text": [
      "Address : 1099 place rd.\n",
      "Org : newton\n",
      "\n",
      "Address : 1029 address rd.\n",
      "Org : hello\n",
      "\n",
      "4/10 positive, 1/10 negative\n",
      "Do these records refer to the same thing?\n",
      "(y)es / (n)o / (u)nsure / (f)inished / (p)revious\n"
     ]
    },
    {
     "name": "stdin",
     "output_type": "stream",
     "text": [
      " n\n"
     ]
    },
    {
     "name": "stderr",
     "output_type": "stream",
     "text": [
      "Address : 1099 place rd.\n",
      "Org : newton\n",
      "\n",
      "Address : 1029 address rd.\n",
      "Org : hello\n",
      "\n",
      "4/10 positive, 2/10 negative\n",
      "Do these records refer to the same thing?\n",
      "(y)es / (n)o / (u)nsure / (f)inished / (p)revious\n"
     ]
    },
    {
     "name": "stdin",
     "output_type": "stream",
     "text": [
      " n\n"
     ]
    },
    {
     "name": "stderr",
     "output_type": "stream",
     "text": [
      "Address : 123 street road\n",
      "Org : george\n",
      "\n",
      "Address : 123 street rd.\n",
      "Org : george\n",
      "\n",
      "4/10 positive, 3/10 negative\n",
      "Do these records refer to the same thing?\n",
      "(y)es / (n)o / (u)nsure / (f)inished / (p)revious\n"
     ]
    },
    {
     "name": "stdin",
     "output_type": "stream",
     "text": [
      " y\n"
     ]
    },
    {
     "name": "stderr",
     "output_type": "stream",
     "text": [
      "Address : 123 street rd.\n",
      "Org : george\n",
      "\n",
      "Address : 123 street road\n",
      "Org : george\n",
      "\n",
      "5/10 positive, 3/10 negative\n",
      "Do these records refer to the same thing?\n",
      "(y)es / (n)o / (u)nsure / (f)inished / (p)revious\n"
     ]
    },
    {
     "name": "stdin",
     "output_type": "stream",
     "text": [
      " y\n"
     ]
    },
    {
     "name": "stderr",
     "output_type": "stream",
     "text": [
      "Address : 123 street rd.\n",
      "Org : george\n",
      "\n",
      "Address : 123 street rd.\n",
      "Org : george\n",
      "\n",
      "6/10 positive, 3/10 negative\n",
      "Do these records refer to the same thing?\n",
      "(y)es / (n)o / (u)nsure / (f)inished / (p)revious\n"
     ]
    },
    {
     "name": "stdin",
     "output_type": "stream",
     "text": [
      " y\n"
     ]
    },
    {
     "name": "stderr",
     "output_type": "stream",
     "text": [
      "Address : 1099 place rd.\n",
      "Org : newton\n",
      "\n",
      "Address : 1029 address rd.\n",
      "Org : hello\n",
      "\n",
      "7/10 positive, 3/10 negative\n",
      "Do these records refer to the same thing?\n",
      "(y)es / (n)o / (u)nsure / (f)inished / (p)revious\n"
     ]
    },
    {
     "name": "stdin",
     "output_type": "stream",
     "text": [
      " n\n"
     ]
    },
    {
     "name": "stderr",
     "output_type": "stream",
     "text": [
      "Address : 1099 place rd.\n",
      "Org : newton\n",
      "\n",
      "Address : 1099 place rd.\n",
      "Org : newton\n",
      "\n",
      "7/10 positive, 4/10 negative\n",
      "Do these records refer to the same thing?\n",
      "(y)es / (n)o / (u)nsure / (f)inished / (p)revious\n"
     ]
    },
    {
     "name": "stdin",
     "output_type": "stream",
     "text": [
      " y\n"
     ]
    },
    {
     "name": "stderr",
     "output_type": "stream",
     "text": [
      "Address : 1029 address rd.\n",
      "Org : hello\n",
      "\n",
      "Address : 1029 address rd.\n",
      "Org : hello\n",
      "\n",
      "8/10 positive, 4/10 negative\n",
      "Do these records refer to the same thing?\n",
      "(y)es / (n)o / (u)nsure / (f)inished / (p)revious\n"
     ]
    },
    {
     "name": "stdin",
     "output_type": "stream",
     "text": [
      " y\n"
     ]
    },
    {
     "name": "stderr",
     "output_type": "stream",
     "text": [
      "Address : 123 street road\n",
      "Org : george\n",
      "\n",
      "Address : 123 street road\n",
      "Org : george\n",
      "\n",
      "9/10 positive, 4/10 negative\n",
      "Do these records refer to the same thing?\n",
      "(y)es / (n)o / (u)nsure / (f)inished / (p)revious\n"
     ]
    },
    {
     "name": "stdin",
     "output_type": "stream",
     "text": [
      " y\n"
     ]
    },
    {
     "name": "stderr",
     "output_type": "stream",
     "text": [
      "Address : 1099 place rd.\n",
      "Org : newton\n",
      "\n",
      "Address : 9278 road st.\n",
      "Org : test\n",
      "\n",
      "10/10 positive, 4/10 negative\n",
      "Do these records refer to the same thing?\n",
      "(y)es / (n)o / (u)nsure / (f)inished / (p)revious\n"
     ]
    },
    {
     "name": "stdin",
     "output_type": "stream",
     "text": [
      " n\n"
     ]
    },
    {
     "name": "stderr",
     "output_type": "stream",
     "text": [
      "Address : 9278 road st.\n",
      "Org : test\n",
      "\n",
      "Address : 1099 place rd.\n",
      "Org : newton\n",
      "\n",
      "10/10 positive, 5/10 negative\n",
      "Do these records refer to the same thing?\n",
      "(y)es / (n)o / (u)nsure / (f)inished / (p)revious\n"
     ]
    },
    {
     "name": "stdin",
     "output_type": "stream",
     "text": [
      " n\n"
     ]
    },
    {
     "name": "stderr",
     "output_type": "stream",
     "text": [
      "Address : 1099 place rd.\n",
      "Org : newton\n",
      "\n",
      "Address : 9278 road st.\n",
      "Org : test\n",
      "\n",
      "10/10 positive, 6/10 negative\n",
      "Do these records refer to the same thing?\n",
      "(y)es / (n)o / (u)nsure / (f)inished / (p)revious\n"
     ]
    },
    {
     "name": "stdin",
     "output_type": "stream",
     "text": [
      " n\n"
     ]
    },
    {
     "name": "stderr",
     "output_type": "stream",
     "text": [
      "Address : 1099 place rd.\n",
      "Org : newton\n",
      "\n",
      "Address : 9278 road st.\n",
      "Org : test\n",
      "\n",
      "10/10 positive, 7/10 negative\n",
      "Do these records refer to the same thing?\n",
      "(y)es / (n)o / (u)nsure / (f)inished / (p)revious\n"
     ]
    },
    {
     "name": "stdin",
     "output_type": "stream",
     "text": [
      " n\n"
     ]
    },
    {
     "name": "stderr",
     "output_type": "stream",
     "text": [
      "Address : 1029 address rd.\n",
      "Org : hello\n",
      "\n",
      "Address : 123 street rd.\n",
      "Org : george\n",
      "\n",
      "10/10 positive, 8/10 negative\n",
      "Do these records refer to the same thing?\n",
      "(y)es / (n)o / (u)nsure / (f)inished / (p)revious\n"
     ]
    },
    {
     "name": "stdin",
     "output_type": "stream",
     "text": [
      " n\n"
     ]
    },
    {
     "name": "stderr",
     "output_type": "stream",
     "text": [
      "Address : 123 street rd.\n",
      "Org : george\n",
      "\n",
      "Address : 1029 address rd.\n",
      "Org : hello\n",
      "\n",
      "10/10 positive, 9/10 negative\n",
      "Do these records refer to the same thing?\n",
      "(y)es / (n)o / (u)nsure / (f)inished / (p)revious\n"
     ]
    },
    {
     "name": "stdin",
     "output_type": "stream",
     "text": [
      " n\n"
     ]
    },
    {
     "name": "stderr",
     "output_type": "stream",
     "text": [
      "Address : 123 street rd.\n",
      "Org : george\n",
      "\n",
      "Address : 1029 address rd.\n",
      "Org : hello\n",
      "\n",
      "10/10 positive, 10/10 negative\n",
      "Do these records refer to the same thing?\n",
      "(y)es / (n)o / (u)nsure / (f)inished / (p)revious\n"
     ]
    },
    {
     "name": "stdin",
     "output_type": "stream",
     "text": [
      " n\n"
     ]
    },
    {
     "name": "stderr",
     "output_type": "stream",
     "text": [
      "Address : 123 street rd.\n",
      "Org : george\n",
      "\n",
      "Address : 1029 address rd.\n",
      "Org : hello\n",
      "\n",
      "10/10 positive, 11/10 negative\n",
      "Do these records refer to the same thing?\n",
      "(y)es / (n)o / (u)nsure / (f)inished / (p)revious\n"
     ]
    },
    {
     "name": "stdin",
     "output_type": "stream",
     "text": [
      " n\n"
     ]
    },
    {
     "name": "stderr",
     "output_type": "stream",
     "text": [
      "Address : 9278 road st.\n",
      "Org : test\n",
      "\n",
      "Address : 123 street rd.\n",
      "Org : george\n",
      "\n",
      "10/10 positive, 12/10 negative\n",
      "Do these records refer to the same thing?\n",
      "(y)es / (n)o / (u)nsure / (f)inished / (p)revious\n"
     ]
    },
    {
     "name": "stdin",
     "output_type": "stream",
     "text": [
      " n\n"
     ]
    },
    {
     "name": "stderr",
     "output_type": "stream",
     "text": [
      "Address : 123 street rd.\n",
      "Org : george\n",
      "\n",
      "Address : 9278 road st.\n",
      "Org : test\n",
      "\n",
      "10/10 positive, 13/10 negative\n",
      "Do these records refer to the same thing?\n",
      "(y)es / (n)o / (u)nsure / (f)inished / (p)revious\n"
     ]
    },
    {
     "name": "stdin",
     "output_type": "stream",
     "text": [
      " n\n"
     ]
    },
    {
     "name": "stderr",
     "output_type": "stream",
     "text": [
      "Address : 123 street rd.\n",
      "Org : george\n",
      "\n",
      "Address : 9278 road st.\n",
      "Org : test\n",
      "\n",
      "10/10 positive, 14/10 negative\n",
      "Do these records refer to the same thing?\n",
      "(y)es / (n)o / (u)nsure / (f)inished / (p)revious\n"
     ]
    },
    {
     "name": "stdin",
     "output_type": "stream",
     "text": [
      " n\n"
     ]
    },
    {
     "name": "stderr",
     "output_type": "stream",
     "text": [
      "Address : 123 street rd.\n",
      "Org : george\n",
      "\n",
      "Address : 9278 road st.\n",
      "Org : test\n",
      "\n",
      "10/10 positive, 15/10 negative\n",
      "Do these records refer to the same thing?\n",
      "(y)es / (n)o / (u)nsure / (f)inished / (p)revious\n"
     ]
    },
    {
     "name": "stdin",
     "output_type": "stream",
     "text": [
      " n\n"
     ]
    },
    {
     "name": "stderr",
     "output_type": "stream",
     "text": [
      "Address : 123 street road\n",
      "Org : george\n",
      "\n",
      "Address : 1029 address rd.\n",
      "Org : hello\n",
      "\n",
      "10/10 positive, 16/10 negative\n",
      "Do these records refer to the same thing?\n",
      "(y)es / (n)o / (u)nsure / (f)inished / (p)revious\n"
     ]
    },
    {
     "name": "stdin",
     "output_type": "stream",
     "text": [
      " n\n"
     ]
    },
    {
     "name": "stderr",
     "output_type": "stream",
     "text": [
      "Address : 1029 address rd.\n",
      "Org : hello\n",
      "\n",
      "Address : 123 street road\n",
      "Org : george\n",
      "\n",
      "10/10 positive, 17/10 negative\n",
      "Do these records refer to the same thing?\n",
      "(y)es / (n)o / (u)nsure / (f)inished / (p)revious\n"
     ]
    },
    {
     "name": "stdin",
     "output_type": "stream",
     "text": [
      " n\n"
     ]
    },
    {
     "name": "stderr",
     "output_type": "stream",
     "text": [
      "Address : 123 street road\n",
      "Org : george\n",
      "\n",
      "Address : 1029 address rd.\n",
      "Org : hello\n",
      "\n",
      "10/10 positive, 18/10 negative\n",
      "Do these records refer to the same thing?\n",
      "(y)es / (n)o / (u)nsure / (f)inished / (p)revious\n"
     ]
    },
    {
     "name": "stdin",
     "output_type": "stream",
     "text": [
      " n\n"
     ]
    },
    {
     "name": "stderr",
     "output_type": "stream",
     "text": [
      "Address : 123 street road\n",
      "Org : george\n",
      "\n",
      "Address : 1029 address rd.\n",
      "Org : hello\n",
      "\n",
      "10/10 positive, 19/10 negative\n",
      "Do these records refer to the same thing?\n",
      "(y)es / (n)o / (u)nsure / (f)inished / (p)revious\n"
     ]
    },
    {
     "name": "stdin",
     "output_type": "stream",
     "text": [
      " n\n"
     ]
    },
    {
     "name": "stderr",
     "output_type": "stream",
     "text": [
      "Address : 1099 place rd.\n",
      "Org : newton\n",
      "\n",
      "Address : 123 street rd.\n",
      "Org : george\n",
      "\n",
      "10/10 positive, 20/10 negative\n",
      "Do these records refer to the same thing?\n",
      "(y)es / (n)o / (u)nsure / (f)inished / (p)revious\n"
     ]
    },
    {
     "name": "stdin",
     "output_type": "stream",
     "text": [
      " n\n"
     ]
    },
    {
     "name": "stderr",
     "output_type": "stream",
     "text": [
      "Address : 123 street rd.\n",
      "Org : george\n",
      "\n",
      "Address : 1099 place rd.\n",
      "Org : newton\n",
      "\n",
      "10/10 positive, 21/10 negative\n",
      "Do these records refer to the same thing?\n",
      "(y)es / (n)o / (u)nsure / (f)inished / (p)revious\n"
     ]
    },
    {
     "name": "stdin",
     "output_type": "stream",
     "text": [
      " n\n"
     ]
    },
    {
     "name": "stderr",
     "output_type": "stream",
     "text": [
      "Address : 123 street rd.\n",
      "Org : george\n",
      "\n",
      "Address : 1099 place rd.\n",
      "Org : newton\n",
      "\n",
      "10/10 positive, 22/10 negative\n",
      "Do these records refer to the same thing?\n",
      "(y)es / (n)o / (u)nsure / (f)inished / (p)revious\n"
     ]
    },
    {
     "name": "stdin",
     "output_type": "stream",
     "text": [
      " n\n"
     ]
    },
    {
     "name": "stderr",
     "output_type": "stream",
     "text": [
      "Address : 123 street rd.\n",
      "Org : george\n",
      "\n",
      "Address : 1099 place rd.\n",
      "Org : newton\n",
      "\n",
      "10/10 positive, 23/10 negative\n",
      "Do these records refer to the same thing?\n",
      "(y)es / (n)o / (u)nsure / (f)inished / (p)revious\n"
     ]
    },
    {
     "name": "stdin",
     "output_type": "stream",
     "text": [
      " n\n"
     ]
    },
    {
     "name": "stderr",
     "output_type": "stream",
     "text": [
      "Address : 9278 road st.\n",
      "Org : test\n",
      "\n",
      "Address : 123 street road\n",
      "Org : george\n",
      "\n",
      "10/10 positive, 24/10 negative\n",
      "Do these records refer to the same thing?\n",
      "(y)es / (n)o / (u)nsure / (f)inished / (p)revious\n"
     ]
    },
    {
     "name": "stdin",
     "output_type": "stream",
     "text": [
      " n\n"
     ]
    },
    {
     "name": "stderr",
     "output_type": "stream",
     "text": [
      "Address : 123 street road\n",
      "Org : george\n",
      "\n",
      "Address : 9278 road st.\n",
      "Org : test\n",
      "\n",
      "10/10 positive, 25/10 negative\n",
      "Do these records refer to the same thing?\n",
      "(y)es / (n)o / (u)nsure / (f)inished / (p)revious\n"
     ]
    },
    {
     "name": "stdin",
     "output_type": "stream",
     "text": [
      " n\n"
     ]
    },
    {
     "name": "stderr",
     "output_type": "stream",
     "text": [
      "Address : 123 street road\n",
      "Org : george\n",
      "\n",
      "Address : 9278 road st.\n",
      "Org : test\n",
      "\n",
      "10/10 positive, 26/10 negative\n",
      "Do these records refer to the same thing?\n",
      "(y)es / (n)o / (u)nsure / (f)inished / (p)revious\n"
     ]
    },
    {
     "name": "stdin",
     "output_type": "stream",
     "text": [
      " n\n"
     ]
    },
    {
     "name": "stderr",
     "output_type": "stream",
     "text": [
      "Address : 123 street road\n",
      "Org : george\n",
      "\n",
      "Address : 9278 road st.\n",
      "Org : test\n",
      "\n",
      "10/10 positive, 27/10 negative\n",
      "Do these records refer to the same thing?\n",
      "(y)es / (n)o / (u)nsure / (f)inished / (p)revious\n"
     ]
    },
    {
     "name": "stdin",
     "output_type": "stream",
     "text": [
      " n\n"
     ]
    },
    {
     "name": "stderr",
     "output_type": "stream",
     "text": [
      "Address : 1029 address rd.\n",
      "Org : hello\n",
      "\n",
      "Address : 9278 road st.\n",
      "Org : test\n",
      "\n",
      "10/10 positive, 28/10 negative\n",
      "Do these records refer to the same thing?\n",
      "(y)es / (n)o / (u)nsure / (f)inished / (p)revious\n"
     ]
    },
    {
     "name": "stdin",
     "output_type": "stream",
     "text": [
      " n\n"
     ]
    },
    {
     "name": "stderr",
     "output_type": "stream",
     "text": [
      "Address : 9278 road st.\n",
      "Org : test\n",
      "\n",
      "Address : 1029 address rd.\n",
      "Org : hello\n",
      "\n",
      "10/10 positive, 29/10 negative\n",
      "Do these records refer to the same thing?\n",
      "(y)es / (n)o / (u)nsure / (f)inished / (p)revious\n"
     ]
    },
    {
     "name": "stdin",
     "output_type": "stream",
     "text": [
      " n\n"
     ]
    },
    {
     "name": "stderr",
     "output_type": "stream",
     "text": [
      "Address : 1029 address rd.\n",
      "Org : hello\n",
      "\n",
      "Address : 9278 road st.\n",
      "Org : test\n",
      "\n",
      "10/10 positive, 30/10 negative\n",
      "Do these records refer to the same thing?\n",
      "(y)es / (n)o / (u)nsure / (f)inished / (p)revious\n"
     ]
    },
    {
     "name": "stdin",
     "output_type": "stream",
     "text": [
      " n\n"
     ]
    },
    {
     "name": "stderr",
     "output_type": "stream",
     "text": [
      "Address : 1029 address rd.\n",
      "Org : hello\n",
      "\n",
      "Address : 9278 road st.\n",
      "Org : test\n",
      "\n",
      "10/10 positive, 31/10 negative\n",
      "Do these records refer to the same thing?\n",
      "(y)es / (n)o / (u)nsure / (f)inished / (p)revious\n"
     ]
    },
    {
     "name": "stdin",
     "output_type": "stream",
     "text": [
      " n\n"
     ]
    },
    {
     "name": "stderr",
     "output_type": "stream",
     "text": [
      "Address : 9278 road st.\n",
      "Org : test\n",
      "\n",
      "Address : 0987 location street\n",
      "Org : exist\n",
      "\n",
      "10/10 positive, 32/10 negative\n",
      "Do these records refer to the same thing?\n",
      "(y)es / (n)o / (u)nsure / (f)inished / (p)revious\n"
     ]
    },
    {
     "name": "stdin",
     "output_type": "stream",
     "text": [
      " n\n"
     ]
    },
    {
     "name": "stderr",
     "output_type": "stream",
     "text": [
      "Address : 9278 road st.\n",
      "Org : test\n",
      "\n",
      "Address : 0987 location street\n",
      "Org : exist\n",
      "\n",
      "10/10 positive, 33/10 negative\n",
      "Do these records refer to the same thing?\n",
      "(y)es / (n)o / (u)nsure / (f)inished / (p)revious\n"
     ]
    },
    {
     "name": "stdin",
     "output_type": "stream",
     "text": [
      " n\n"
     ]
    },
    {
     "name": "stderr",
     "output_type": "stream",
     "text": [
      "Address : 0987 location street\n",
      "Org : exist\n",
      "\n",
      "Address : 9278 road st.\n",
      "Org : test\n",
      "\n",
      "10/10 positive, 34/10 negative\n",
      "Do these records refer to the same thing?\n",
      "(y)es / (n)o / (u)nsure / (f)inished / (p)revious\n"
     ]
    },
    {
     "name": "stdin",
     "output_type": "stream",
     "text": [
      " n\n"
     ]
    },
    {
     "name": "stderr",
     "output_type": "stream",
     "text": [
      "Address : 9278 road st.\n",
      "Org : test\n",
      "\n",
      "Address : 0987 location street\n",
      "Org : exist\n",
      "\n",
      "10/10 positive, 35/10 negative\n",
      "Do these records refer to the same thing?\n",
      "(y)es / (n)o / (u)nsure / (f)inished / (p)revious\n"
     ]
    },
    {
     "name": "stdin",
     "output_type": "stream",
     "text": [
      " n\n"
     ]
    },
    {
     "name": "stderr",
     "output_type": "stream",
     "text": [
      "Address : 1099 place rd.\n",
      "Org : newton\n",
      "\n",
      "Address : 123 street road\n",
      "Org : george\n",
      "\n",
      "10/10 positive, 36/10 negative\n",
      "Do these records refer to the same thing?\n",
      "(y)es / (n)o / (u)nsure / (f)inished / (p)revious\n"
     ]
    },
    {
     "name": "stdin",
     "output_type": "stream",
     "text": [
      " n\n"
     ]
    },
    {
     "name": "stderr",
     "output_type": "stream",
     "text": [
      "Address : 123 street road\n",
      "Org : george\n",
      "\n",
      "Address : 1099 place rd.\n",
      "Org : newton\n",
      "\n",
      "10/10 positive, 37/10 negative\n",
      "Do these records refer to the same thing?\n",
      "(y)es / (n)o / (u)nsure / (f)inished / (p)revious\n"
     ]
    },
    {
     "name": "stdin",
     "output_type": "stream",
     "text": [
      " n\n"
     ]
    },
    {
     "name": "stderr",
     "output_type": "stream",
     "text": [
      "Address : 1099 place rd.\n",
      "Org : newton\n",
      "\n",
      "Address : 123 street road\n",
      "Org : george\n",
      "\n",
      "10/10 positive, 38/10 negative\n",
      "Do these records refer to the same thing?\n",
      "(y)es / (n)o / (u)nsure / (f)inished / (p)revious\n"
     ]
    },
    {
     "name": "stdin",
     "output_type": "stream",
     "text": [
      " n\n"
     ]
    },
    {
     "name": "stderr",
     "output_type": "stream",
     "text": [
      "Address : 1099 place rd.\n",
      "Org : newton\n",
      "\n",
      "Address : 123 street road\n",
      "Org : george\n",
      "\n",
      "10/10 positive, 39/10 negative\n",
      "Do these records refer to the same thing?\n",
      "(y)es / (n)o / (u)nsure / (f)inished / (p)revious\n"
     ]
    },
    {
     "name": "stdin",
     "output_type": "stream",
     "text": [
      " n\n"
     ]
    },
    {
     "name": "stderr",
     "output_type": "stream",
     "text": [
      "Address : 0987 location street\n",
      "Org : exist\n",
      "\n",
      "Address : 1099 place rd.\n",
      "Org : newton\n",
      "\n",
      "10/10 positive, 40/10 negative\n",
      "Do these records refer to the same thing?\n",
      "(y)es / (n)o / (u)nsure / (f)inished / (p)revious\n"
     ]
    },
    {
     "name": "stdin",
     "output_type": "stream",
     "text": [
      " n\n"
     ]
    },
    {
     "name": "stderr",
     "output_type": "stream",
     "text": [
      "Address : 1099 place rd.\n",
      "Org : newton\n",
      "\n",
      "Address : 0987 location street\n",
      "Org : exist\n",
      "\n",
      "10/10 positive, 41/10 negative\n",
      "Do these records refer to the same thing?\n",
      "(y)es / (n)o / (u)nsure / (f)inished / (p)revious\n"
     ]
    },
    {
     "name": "stdin",
     "output_type": "stream",
     "text": [
      " n\n"
     ]
    },
    {
     "name": "stderr",
     "output_type": "stream",
     "text": [
      "Address : 1099 place rd.\n",
      "Org : newton\n",
      "\n",
      "Address : 0987 location street\n",
      "Org : exist\n",
      "\n",
      "10/10 positive, 42/10 negative\n",
      "Do these records refer to the same thing?\n",
      "(y)es / (n)o / (u)nsure / (f)inished / (p)revious\n"
     ]
    },
    {
     "name": "stdin",
     "output_type": "stream",
     "text": [
      " n\n"
     ]
    },
    {
     "name": "stderr",
     "output_type": "stream",
     "text": [
      "Address : 1099 place rd.\n",
      "Org : newton\n",
      "\n",
      "Address : 0987 location street\n",
      "Org : exist\n",
      "\n",
      "10/10 positive, 43/10 negative\n",
      "Do these records refer to the same thing?\n",
      "(y)es / (n)o / (u)nsure / (f)inished / (p)revious\n"
     ]
    },
    {
     "name": "stdin",
     "output_type": "stream",
     "text": [
      " n\n"
     ]
    },
    {
     "name": "stderr",
     "output_type": "stream",
     "text": [
      "Address : 123 street rd.\n",
      "Org : george\n",
      "\n",
      "Address : 0987 location street\n",
      "Org : exist\n",
      "\n",
      "10/10 positive, 44/10 negative\n",
      "Do these records refer to the same thing?\n",
      "(y)es / (n)o / (u)nsure / (f)inished / (p)revious\n"
     ]
    },
    {
     "name": "stdin",
     "output_type": "stream",
     "text": [
      " n\n"
     ]
    },
    {
     "name": "stderr",
     "output_type": "stream",
     "text": [
      "Address : 123 street rd.\n",
      "Org : george\n",
      "\n",
      "Address : 0987 location street\n",
      "Org : exist\n",
      "\n",
      "10/10 positive, 45/10 negative\n",
      "Do these records refer to the same thing?\n",
      "(y)es / (n)o / (u)nsure / (f)inished / (p)revious\n"
     ]
    },
    {
     "name": "stdin",
     "output_type": "stream",
     "text": [
      " n\n"
     ]
    },
    {
     "name": "stderr",
     "output_type": "stream",
     "text": [
      "Address : 123 street rd.\n",
      "Org : george\n",
      "\n",
      "Address : 0987 location street\n",
      "Org : exist\n",
      "\n",
      "10/10 positive, 46/10 negative\n",
      "Do these records refer to the same thing?\n",
      "(y)es / (n)o / (u)nsure / (f)inished / (p)revious\n"
     ]
    },
    {
     "name": "stdin",
     "output_type": "stream",
     "text": [
      " n\n"
     ]
    },
    {
     "name": "stderr",
     "output_type": "stream",
     "text": [
      "Address : 0987 location street\n",
      "Org : exist\n",
      "\n",
      "Address : 123 street rd.\n",
      "Org : george\n",
      "\n",
      "10/10 positive, 47/10 negative\n",
      "Do these records refer to the same thing?\n",
      "(y)es / (n)o / (u)nsure / (f)inished / (p)revious\n"
     ]
    },
    {
     "name": "stdin",
     "output_type": "stream",
     "text": [
      " n\n"
     ]
    },
    {
     "name": "stderr",
     "output_type": "stream",
     "text": [
      "Address : 123 street road\n",
      "Org : george\n",
      "\n",
      "Address : 0987 location street\n",
      "Org : exist\n",
      "\n",
      "10/10 positive, 48/10 negative\n",
      "Do these records refer to the same thing?\n",
      "(y)es / (n)o / (u)nsure / (f)inished / (p)revious\n"
     ]
    },
    {
     "name": "stdin",
     "output_type": "stream",
     "text": [
      " n\n"
     ]
    },
    {
     "name": "stderr",
     "output_type": "stream",
     "text": [
      "Address : 123 street road\n",
      "Org : george\n",
      "\n",
      "Address : 0987 location street\n",
      "Org : exist\n",
      "\n",
      "10/10 positive, 49/10 negative\n",
      "Do these records refer to the same thing?\n",
      "(y)es / (n)o / (u)nsure / (f)inished / (p)revious\n"
     ]
    },
    {
     "name": "stdin",
     "output_type": "stream",
     "text": [
      " n\n"
     ]
    },
    {
     "name": "stderr",
     "output_type": "stream",
     "text": [
      "Address : 123 street road\n",
      "Org : george\n",
      "\n",
      "Address : 0987 location street\n",
      "Org : exist\n",
      "\n",
      "10/10 positive, 50/10 negative\n",
      "Do these records refer to the same thing?\n",
      "(y)es / (n)o / (u)nsure / (f)inished / (p)revious\n"
     ]
    },
    {
     "name": "stdin",
     "output_type": "stream",
     "text": [
      " n\n"
     ]
    },
    {
     "name": "stderr",
     "output_type": "stream",
     "text": [
      "Address : 0987 location street\n",
      "Org : exist\n",
      "\n",
      "Address : 123 street road\n",
      "Org : george\n",
      "\n",
      "10/10 positive, 51/10 negative\n",
      "Do these records refer to the same thing?\n",
      "(y)es / (n)o / (u)nsure / (f)inished / (p)revious\n"
     ]
    },
    {
     "name": "stdin",
     "output_type": "stream",
     "text": [
      " n\n"
     ]
    },
    {
     "name": "stderr",
     "output_type": "stream",
     "text": [
      "Address : 1029 address rd.\n",
      "Org : hello\n",
      "\n",
      "Address : 0987 location street\n",
      "Org : exist\n",
      "\n",
      "10/10 positive, 52/10 negative\n",
      "Do these records refer to the same thing?\n",
      "(y)es / (n)o / (u)nsure / (f)inished / (p)revious\n"
     ]
    },
    {
     "name": "stdin",
     "output_type": "stream",
     "text": [
      " n\n"
     ]
    },
    {
     "name": "stderr",
     "output_type": "stream",
     "text": [
      "Address : 0987 location street\n",
      "Org : exist\n",
      "\n",
      "Address : 1029 address rd.\n",
      "Org : hello\n",
      "\n",
      "10/10 positive, 53/10 negative\n",
      "Do these records refer to the same thing?\n",
      "(y)es / (n)o / (u)nsure / (f)inished / (p)revious\n"
     ]
    },
    {
     "name": "stdin",
     "output_type": "stream",
     "text": [
      " n\n"
     ]
    },
    {
     "name": "stderr",
     "output_type": "stream",
     "text": [
      "Address : 1029 address rd.\n",
      "Org : hello\n",
      "\n",
      "Address : 0987 location street\n",
      "Org : exist\n",
      "\n",
      "10/10 positive, 54/10 negative\n",
      "Do these records refer to the same thing?\n",
      "(y)es / (n)o / (u)nsure / (f)inished / (p)revious\n"
     ]
    },
    {
     "name": "stdin",
     "output_type": "stream",
     "text": [
      " n\n"
     ]
    },
    {
     "name": "stderr",
     "output_type": "stream",
     "text": [
      "Address : 1029 address rd.\n",
      "Org : hello\n",
      "\n",
      "Address : 0987 location street\n",
      "Org : exist\n",
      "\n",
      "10/10 positive, 55/10 negative\n",
      "Do these records refer to the same thing?\n",
      "(y)es / (n)o / (u)nsure / (f)inished / (p)revious\n"
     ]
    },
    {
     "name": "stdin",
     "output_type": "stream",
     "text": [
      " n\n"
     ]
    },
    {
     "name": "stdout",
     "output_type": "stream",
     "text": [
      "Clustering...\n",
      "# duplicate sets 5\n"
     ]
    }
   ],
   "source": [
    "df = pandas_dedupe.dedupe_dataframe(df,['Address', 'Org'])"
   ]
  },
  {
   "cell_type": "code",
   "execution_count": 5,
   "id": "9e89b178-7986-4b59-8f46-bc9000e9ad10",
   "metadata": {
    "tags": []
   },
   "outputs": [
    {
     "data": {
      "text/html": [
       "<div>\n",
       "<style scoped>\n",
       "    .dataframe tbody tr th:only-of-type {\n",
       "        vertical-align: middle;\n",
       "    }\n",
       "\n",
       "    .dataframe tbody tr th {\n",
       "        vertical-align: top;\n",
       "    }\n",
       "\n",
       "    .dataframe thead th {\n",
       "        text-align: right;\n",
       "    }\n",
       "</style>\n",
       "<table border=\"1\" class=\"dataframe\">\n",
       "  <thead>\n",
       "    <tr style=\"text-align: right;\">\n",
       "      <th></th>\n",
       "      <th>Org</th>\n",
       "      <th>Address</th>\n",
       "      <th>Fname</th>\n",
       "      <th>Lname</th>\n",
       "      <th>cluster id</th>\n",
       "      <th>confidence</th>\n",
       "    </tr>\n",
       "  </thead>\n",
       "  <tbody>\n",
       "    <tr>\n",
       "      <th>0</th>\n",
       "      <td>george</td>\n",
       "      <td>123 street rd.</td>\n",
       "      <td>andrew</td>\n",
       "      <td>smith</td>\n",
       "      <td>0</td>\n",
       "      <td>0.767772</td>\n",
       "    </tr>\n",
       "    <tr>\n",
       "      <th>1</th>\n",
       "      <td>newton</td>\n",
       "      <td>1099 place rd.</td>\n",
       "      <td>ruth</td>\n",
       "      <td>thompson</td>\n",
       "      <td>1</td>\n",
       "      <td>0.823253</td>\n",
       "    </tr>\n",
       "    <tr>\n",
       "      <th>2</th>\n",
       "      <td>george</td>\n",
       "      <td>123 street road</td>\n",
       "      <td>pam</td>\n",
       "      <td>anderson</td>\n",
       "      <td>0</td>\n",
       "      <td>0.767772</td>\n",
       "    </tr>\n",
       "    <tr>\n",
       "      <th>3</th>\n",
       "      <td>hello</td>\n",
       "      <td>1029 address rd.</td>\n",
       "      <td>john</td>\n",
       "      <td>smith</td>\n",
       "      <td>2</td>\n",
       "      <td>0.823253</td>\n",
       "    </tr>\n",
       "    <tr>\n",
       "      <th>4</th>\n",
       "      <td>test</td>\n",
       "      <td>9278 road st.</td>\n",
       "      <td>vanessa</td>\n",
       "      <td>sanchez</td>\n",
       "      <td>3</td>\n",
       "      <td>0.823253</td>\n",
       "    </tr>\n",
       "    <tr>\n",
       "      <th>5</th>\n",
       "      <td>exist</td>\n",
       "      <td>0987 location street</td>\n",
       "      <td>edwin</td>\n",
       "      <td>rodriguez</td>\n",
       "      <td>4</td>\n",
       "      <td>0.823253</td>\n",
       "    </tr>\n",
       "    <tr>\n",
       "      <th>6</th>\n",
       "      <td>george</td>\n",
       "      <td>123 street rd.</td>\n",
       "      <td>andrew</td>\n",
       "      <td>smith</td>\n",
       "      <td>0</td>\n",
       "      <td>0.767772</td>\n",
       "    </tr>\n",
       "    <tr>\n",
       "      <th>7</th>\n",
       "      <td>newton</td>\n",
       "      <td>1099 place rd.</td>\n",
       "      <td>ruth</td>\n",
       "      <td>thompson</td>\n",
       "      <td>1</td>\n",
       "      <td>0.823253</td>\n",
       "    </tr>\n",
       "    <tr>\n",
       "      <th>8</th>\n",
       "      <td>george</td>\n",
       "      <td>123 street road</td>\n",
       "      <td>pam</td>\n",
       "      <td>anderson</td>\n",
       "      <td>0</td>\n",
       "      <td>0.767772</td>\n",
       "    </tr>\n",
       "    <tr>\n",
       "      <th>9</th>\n",
       "      <td>hello</td>\n",
       "      <td>1029 address rd.</td>\n",
       "      <td>john</td>\n",
       "      <td>smith</td>\n",
       "      <td>2</td>\n",
       "      <td>0.823253</td>\n",
       "    </tr>\n",
       "    <tr>\n",
       "      <th>10</th>\n",
       "      <td>test</td>\n",
       "      <td>9278 road st.</td>\n",
       "      <td>vanessa</td>\n",
       "      <td>sanchez</td>\n",
       "      <td>3</td>\n",
       "      <td>0.823253</td>\n",
       "    </tr>\n",
       "    <tr>\n",
       "      <th>11</th>\n",
       "      <td>exist</td>\n",
       "      <td>0987 location street</td>\n",
       "      <td>edwin</td>\n",
       "      <td>rodriguez</td>\n",
       "      <td>4</td>\n",
       "      <td>0.823253</td>\n",
       "    </tr>\n",
       "  </tbody>\n",
       "</table>\n",
       "</div>"
      ],
      "text/plain": [
       "       Org               Address    Fname      Lname  cluster id  confidence\n",
       "0   george        123 street rd.   andrew      smith           0    0.767772\n",
       "1   newton        1099 place rd.     ruth   thompson           1    0.823253\n",
       "2   george       123 street road      pam   anderson           0    0.767772\n",
       "3    hello      1029 address rd.     john      smith           2    0.823253\n",
       "4     test         9278 road st.  vanessa    sanchez           3    0.823253\n",
       "5    exist  0987 location street    edwin  rodriguez           4    0.823253\n",
       "6   george        123 street rd.   andrew      smith           0    0.767772\n",
       "7   newton        1099 place rd.     ruth   thompson           1    0.823253\n",
       "8   george       123 street road      pam   anderson           0    0.767772\n",
       "9    hello      1029 address rd.     john      smith           2    0.823253\n",
       "10    test         9278 road st.  vanessa    sanchez           3    0.823253\n",
       "11   exist  0987 location street    edwin  rodriguez           4    0.823253"
      ]
     },
     "execution_count": 5,
     "metadata": {},
     "output_type": "execute_result"
    }
   ],
   "source": [
    "df"
   ]
  },
  {
   "cell_type": "code",
   "execution_count": 6,
   "id": "f885d894-eefa-4fb6-a073-dcd942d11b75",
   "metadata": {
    "tags": []
   },
   "outputs": [],
   "source": [
    "df.to_csv('log.csv')"
   ]
  },
  {
   "cell_type": "code",
   "execution_count": null,
   "id": "1f9f721e-53c2-472e-a6d9-0b34cac42fcf",
   "metadata": {},
   "outputs": [],
   "source": []
  }
 ],
 "metadata": {
  "kernelspec": {
   "display_name": "Python 3 (ipykernel)",
   "language": "python",
   "name": "python3"
  },
  "language_info": {
   "codemirror_mode": {
    "name": "ipython",
    "version": 3
   },
   "file_extension": ".py",
   "mimetype": "text/x-python",
   "name": "python",
   "nbconvert_exporter": "python",
   "pygments_lexer": "ipython3",
   "version": "3.10.11"
  }
 },
 "nbformat": 4,
 "nbformat_minor": 5
}
